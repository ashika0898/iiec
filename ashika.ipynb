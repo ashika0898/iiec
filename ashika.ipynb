{
 "cells": [
  {
   "cell_type": "code",
   "execution_count": null,
   "metadata": {},
   "outputs": [
    {
     "name": "stdout",
     "output_type": "stream",
     "text": [
      "chat with me with your requirements : can u open chrome\n",
      "chat with me with your requirements : dont open chrome\n",
      "dont support\n",
      "chat with me with your requirements : open skype\n",
      "chat with me with your requirements : "
     ]
    }
   ],
   "source": [
    "import pyttsx3\n",
    "import os\n",
    "\n",
    "pyttsx3.speak(\"Welcome to windows\")\n",
    "\n",
    "\n",
    "while True:\n",
    "\tprint(\"chat with me with your requirements : \"  , end='')\n",
    "\tp = input()\n",
    "\n",
    "\tif ((\"run\" in p) or (\"open\" in p) or (\"execute\" in p)) and ((\"chrome\" in p) or (\"browser\" in p)) and (not(\"dont\" in p) ):\n",
    "\t  os.system(\"chrome\")\n",
    "\n",
    "\telif ((\"run\" in p) or (\"execute\" in p ) or (\"open\" in p)) and  ((\"notepad\" in p) or (\"texteditor\" in p)) and (not(\"dont\" in p) ):\n",
    "\t  os.system(\"notepad\")\n",
    "\n",
    "\telif ((\"run\" in p) or (\"open\" in p)) and (\"skype\" in p) and (not(\"dont\" in p) ):\n",
    "\t  os.system(\"skype\")\n",
    "\t\n",
    "\telif((\"run\" in p) or (\"open\" in p)) and (\"wps\" in p):\n",
    "\t  os.system(\"ksolaunch\")\n",
    "\n",
    "\telif((\"run\" in p) or (\"open\" in p) or (\"play\" in p)) and ((\"vlcplayer\" in p) or (\"mediaplayer\" in p) or (\"media player\" in p) or(\"vlc player\" in p)) and (not(\"dont\" in p) ):\n",
    "\t  os.system(\"vlc\")\n",
    "\n",
    "\telif((\"run\" in p) or (\"open\" in p) or (\"execute\" in p)) and ((\"jupyter\" in p) or (\"notebook\" in p)) and (not(\"dont\" in p) ):\n",
    "\t  os.system(\"jupyter notebook\")\n",
    "\t\n",
    "\telif((\"run\" in p) or (\"open\" in p) or (\"execute\" in p)) and (\"ultraviewer\" in p) and (not(\"dont\" in p) ):\n",
    "\t  os.system(\"UltraViewer_Desktop\")\n",
    "\t\n",
    "\telif((\"run\" in p) or (\"open\" in p) or (\"execute\" in p)) and (\"arduino\" in p) and (not(\"dont\" in p) ):\n",
    "\t  os.system(\"arduino\")\n",
    "\t\n",
    "\telif((\"run\" in p) or (\"open\" in p) or (\"execute\" in p)) and ((\"zoom\" in p) or (\"Zoom\" in p)) and (not(\"dont\" in p) ):\n",
    "\t  os.system(\"Zoom\")\n",
    "\n",
    "\telif((\"run\" in p) or (\"open\" in p) or (\"execute\" in p)) and (\"eclipse\" in p) and (not(\"dont\" in p) ):\n",
    "\t  os.system(\"eclipse\")\n",
    "\n",
    "\telif((\"run\" in p) or (\"open\" in p) or (\"execute\" in p)) and (\"netbeans\" in p) and (not(\"dont\" in p) ):\n",
    "\t  os.system(\"netbeans64\")\n",
    "\n",
    "\telif((\"run\" in p) or (\"open\" in p) or (\"execute\" in p)) and (\"itunes\" in p) and (not(\"dont\" in p) ):\n",
    "\t  os.system(\"iTunes\")\n",
    "\n",
    "\telif((\"run\" in p) or (\"open\" in p) or (\"execute\" in p)) and (\"videoeditor\" in p) and (not(\"dont\" in p) ):\n",
    "\t  os.system(\"VideoEditor\")\n",
    "\t\n",
    "\telif((\"run\" in p) or (\"open\" in p) or (\"execute\" in p)) and (\"acrobat\" in p) and (not(\"dont\" in p) ):\n",
    "\t  os.system(\"AcroRd32\")\n",
    "\n",
    "\telif((\"run\" in p) or (\"open\" in p) or (\"execute\" in p)) and (\"explorer\" in p)and (not(\"dont\" in p) ):\n",
    "\t  os.system(\"explorer\")\n",
    "\n",
    "\telif((\"run\" in p) or (\"open\" in p) or (\"execute\" in p)) and (\"snippingtool\" in p) and (not(\"dont\" in p) ):\n",
    "\t  os.system(\"SnippingTool\")\n",
    "\n",
    "\telif((\"run\" in p) or (\"open\" in p) or (\"execute\" in p)) and ((\"prompt\" in p) or (\"commandprompt\" in p)) and (not(\"dont\" in p) ):\n",
    "\t  os.system(\"cmd\")\n",
    "\n",
    "\telif  (\"exit\" in p)  or (\"quit\" in p):\n",
    "\t  break\n",
    "\n",
    "\telse:\n",
    "\t  print(\"dont support\")\n",
    "\n",
    "\n"
   ]
  },
  {
   "cell_type": "code",
   "execution_count": null,
   "metadata": {},
   "outputs": [],
   "source": []
  }
 ],
 "metadata": {
  "kernelspec": {
   "display_name": "Python 3",
   "language": "python",
   "name": "python3"
  }
 },
 "nbformat": 4,
 "nbformat_minor": 4
}
